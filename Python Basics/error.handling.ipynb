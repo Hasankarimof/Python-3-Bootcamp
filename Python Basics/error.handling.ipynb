{
 "cells": [
  {
   "cell_type": "markdown",
   "metadata": {},
   "source": [
    "Syntax error"
   ]
  },
  {
   "cell_type": "code",
   "execution_count": 1,
   "metadata": {},
   "outputs": [
    {
     "ename": "SyntaxError",
     "evalue": "invalid syntax (2347645608.py, line 3)",
     "output_type": "error",
     "traceback": [
      "\u001b[1;36m  Cell \u001b[1;32mIn[1], line 3\u001b[1;36m\u001b[0m\n\u001b[1;33m    if greeting == 'Hello'`\u001b[0m\n\u001b[1;37m                          ^\u001b[0m\n\u001b[1;31mSyntaxError\u001b[0m\u001b[1;31m:\u001b[0m invalid syntax\n"
     ]
    }
   ],
   "source": [
    "greeting = 'Hello'\n",
    "\n",
    "if greeting == 'Hello'`\n",
    "    print('Hello, how are you?')"
   ]
  },
  {
   "cell_type": "code",
   "execution_count": 3,
   "metadata": {},
   "outputs": [
    {
     "ename": "ZeroDivisionError",
     "evalue": "division by zero",
     "output_type": "error",
     "traceback": [
      "\u001b[1;31m---------------------------------------------------------------------------\u001b[0m",
      "\u001b[1;31mZeroDivisionError\u001b[0m                         Traceback (most recent call last)",
      "Cell \u001b[1;32mIn[3], line 3\u001b[0m\n\u001b[0;32m      1\u001b[0m \u001b[38;5;66;03m#Exceptions\u001b[39;00m\n\u001b[1;32m----> 3\u001b[0m a \u001b[38;5;241m=\u001b[39m \u001b[38;5;241;43m5\u001b[39;49m\u001b[43m \u001b[49m\u001b[38;5;241;43m/\u001b[39;49m\u001b[43m \u001b[49m\u001b[38;5;241;43m0\u001b[39;49m\n\u001b[0;32m      4\u001b[0m \u001b[38;5;28mprint\u001b[39m(a)\n",
      "\u001b[1;31mZeroDivisionError\u001b[0m: division by zero"
     ]
    }
   ],
   "source": [
    "#Exceptions\n",
    "\n",
    "a = 5 / 0\n",
    "print(a)"
   ]
  },
  {
   "cell_type": "code",
   "execution_count": 12,
   "metadata": {},
   "outputs": [
    {
     "name": "stdout",
     "output_type": "stream",
     "text": [
      "Something went wrong! division by zero\n",
      "<class 'ZeroDivisionError'>\n"
     ]
    }
   ],
   "source": [
    "# Exception handling\n",
    "def divide_by(a,b):\n",
    "    return a / b\n",
    "\n",
    "# print(divide_by(40,0))\n",
    "\n",
    "try:\n",
    "    ans = divide_by(40,0)\n",
    "except ZeroDivisionError as e:\n",
    "    print(\"Something went wrong!\",e)\n",
    "    print(e.__class__)"
   ]
  },
  {
   "cell_type": "code",
   "execution_count": 1,
   "metadata": {},
   "outputs": [
    {
     "name": "stdout",
     "output_type": "stream",
     "text": [
      "Something went wrong! because the list index are out of range\n"
     ]
    }
   ],
   "source": [
    "#index error\n",
    "# Starter code\n",
    "items = [1,2,3,4,5]\n",
    "\n",
    "try:\n",
    "    item = items[6]\n",
    "except IndexError as I:\n",
    "    print(\"Something went wrong!\",\"because the list index are out of range\")\n"
   ]
  },
  {
   "cell_type": "code",
   "execution_count": 2,
   "metadata": {},
   "outputs": [
    {
     "name": "stdout",
     "output_type": "stream",
     "text": [
      "0\n"
     ]
    }
   ],
   "source": [
    "#ZeroDivisionError\n",
    "# Starter code\n",
    "def divide_by(a, b):\n",
    "    try:\n",
    "        return a / b\n",
    "    except ZeroDivisionError :\n",
    "        return 0\n",
    "    except Exception as e:\n",
    "        print(e, 'Something went wrong!')\n",
    "\n",
    "ans = divide_by(10,0)\n",
    "print(ans)"
   ]
  },
  {
   "cell_type": "code",
   "execution_count": 3,
   "metadata": {},
   "outputs": [
    {
     "name": "stdout",
     "output_type": "stream",
     "text": [
      "Sorry, Unable to locate file\n"
     ]
    }
   ],
   "source": [
    "#FileNotFoundError\n",
    "# Starter code\n",
    "try:\n",
    "    with open('file_does_not_exist.txt', 'r') as file:\n",
    "        print(file.read())\n",
    "except:\n",
    "    print(\"Sorry, Unable to locate file\")"
   ]
  },
  {
   "cell_type": "code",
   "execution_count": 4,
   "metadata": {},
   "outputs": [
    {
     "data": {
      "text/plain": [
       "'Hello there!'"
      ]
     },
     "execution_count": 4,
     "metadata": {},
     "output_type": "execute_result"
    }
   ],
   "source": [
    "#File-handling --reading files\n",
    "\n",
    "file = open('test.txt', mode='r')\n",
    "\n",
    "data = file.readline()\n",
    "file.close()\n",
    "data\n"
   ]
  },
  {
   "cell_type": "code",
   "execution_count": 5,
   "metadata": {},
   "outputs": [
    {
     "data": {
      "text/plain": [
       "'Hello there!'"
      ]
     },
     "execution_count": 5,
     "metadata": {},
     "output_type": "execute_result"
    }
   ],
   "source": [
    "with open('test.txt', mode='r') as file:\n",
    "    data = file.readline()\n",
    "\n",
    "data"
   ]
  },
  {
   "cell_type": "code",
   "execution_count": 16,
   "metadata": {},
   "outputs": [],
   "source": [
    "#File-handling --#Creating files\n",
    "with open('newfile.txt',mode='w') as file:\n",
    "    file.write('This is  a new file created!')\n"
   ]
  },
  {
   "cell_type": "code",
   "execution_count": 23,
   "metadata": {},
   "outputs": [
    {
     "name": "stdout",
     "output_type": "stream",
     "text": [
      "ERROR [Errno 2] No such file or directory: 'sampe/ewfile.txt'\n"
     ]
    }
   ],
   "source": [
    "#File-handling --#writelines\n",
    "try:\n",
    "    with open('sampe/ewfile.txt',mode='a') as file:\n",
    "        file.writelines(['\\nThis is  a new file created!2','\\nThis is another line to be added.'])\n",
    "except FileNotFoundError as e:\n",
    "    print(\"ERROR\",e)\n",
    "\n"
   ]
  },
  {
   "cell_type": "code",
   "execution_count": 1,
   "metadata": {},
   "outputs": [
    {
     "ename": "FileNotFoundError",
     "evalue": "[Errno 2] No such file or directory: 'sample.txt'",
     "output_type": "error",
     "traceback": [
      "\u001b[1;31m---------------------------------------------------------------------------\u001b[0m",
      "\u001b[1;31mFileNotFoundError\u001b[0m                         Traceback (most recent call last)",
      "Cell \u001b[1;32mIn[1], line 4\u001b[0m\n\u001b[0;32m      1\u001b[0m \u001b[38;5;66;03m#read() 40\u001b[39;00m\n\u001b[0;32m      2\u001b[0m \u001b[38;5;66;03m#readline()\u001b[39;00m\n\u001b[0;32m      3\u001b[0m \u001b[38;5;66;03m#readlines()\u001b[39;00m\n\u001b[1;32m----> 4\u001b[0m \u001b[38;5;28;01mwith\u001b[39;00m \u001b[38;5;28;43mopen\u001b[39;49m\u001b[43m(\u001b[49m\u001b[38;5;124;43m'\u001b[39;49m\u001b[38;5;124;43msample.txt\u001b[39;49m\u001b[38;5;124;43m'\u001b[39;49m\u001b[43m,\u001b[49m\u001b[38;5;124;43m'\u001b[39;49m\u001b[38;5;124;43mr\u001b[39;49m\u001b[38;5;124;43m'\u001b[39;49m\u001b[43m)\u001b[49m \u001b[38;5;28;01mas\u001b[39;00m file:\n\u001b[0;32m      5\u001b[0m     data \u001b[38;5;241m=\u001b[39m file\u001b[38;5;241m.\u001b[39mreadline()\n\u001b[0;32m      7\u001b[0m     \u001b[38;5;28;01mfor\u001b[39;00m x \u001b[38;5;129;01min\u001b[39;00m data:\n",
      "File \u001b[1;32m~\\AppData\\Roaming\\Python\\Python312\\site-packages\\IPython\\core\\interactiveshell.py:324\u001b[0m, in \u001b[0;36m_modified_open\u001b[1;34m(file, *args, **kwargs)\u001b[0m\n\u001b[0;32m    317\u001b[0m \u001b[38;5;28;01mif\u001b[39;00m file \u001b[38;5;129;01min\u001b[39;00m {\u001b[38;5;241m0\u001b[39m, \u001b[38;5;241m1\u001b[39m, \u001b[38;5;241m2\u001b[39m}:\n\u001b[0;32m    318\u001b[0m     \u001b[38;5;28;01mraise\u001b[39;00m \u001b[38;5;167;01mValueError\u001b[39;00m(\n\u001b[0;32m    319\u001b[0m         \u001b[38;5;124mf\u001b[39m\u001b[38;5;124m\"\u001b[39m\u001b[38;5;124mIPython won\u001b[39m\u001b[38;5;124m'\u001b[39m\u001b[38;5;124mt let you open fd=\u001b[39m\u001b[38;5;132;01m{\u001b[39;00mfile\u001b[38;5;132;01m}\u001b[39;00m\u001b[38;5;124m by default \u001b[39m\u001b[38;5;124m\"\u001b[39m\n\u001b[0;32m    320\u001b[0m         \u001b[38;5;124m\"\u001b[39m\u001b[38;5;124mas it is likely to crash IPython. If you know what you are doing, \u001b[39m\u001b[38;5;124m\"\u001b[39m\n\u001b[0;32m    321\u001b[0m         \u001b[38;5;124m\"\u001b[39m\u001b[38;5;124myou can use builtins\u001b[39m\u001b[38;5;124m'\u001b[39m\u001b[38;5;124m open.\u001b[39m\u001b[38;5;124m\"\u001b[39m\n\u001b[0;32m    322\u001b[0m     )\n\u001b[1;32m--> 324\u001b[0m \u001b[38;5;28;01mreturn\u001b[39;00m \u001b[43mio_open\u001b[49m\u001b[43m(\u001b[49m\u001b[43mfile\u001b[49m\u001b[43m,\u001b[49m\u001b[43m \u001b[49m\u001b[38;5;241;43m*\u001b[39;49m\u001b[43margs\u001b[49m\u001b[43m,\u001b[49m\u001b[43m \u001b[49m\u001b[38;5;241;43m*\u001b[39;49m\u001b[38;5;241;43m*\u001b[39;49m\u001b[43mkwargs\u001b[49m\u001b[43m)\u001b[49m\n",
      "\u001b[1;31mFileNotFoundError\u001b[0m: [Errno 2] No such file or directory: 'sample.txt'"
     ]
    }
   ],
   "source": [
    "#read() 40\n",
    "#readline()\n",
    "#readlines()\n",
    "with open('sample.txt','r') as file:\n",
    "    data = file.readline()\n",
    "\n",
    "    for x in data:\n",
    "        print(x)"
   ]
  },
  {
   "cell_type": "code",
   "execution_count": 18,
   "metadata": {},
   "outputs": [
    {
     "name": "stdout",
     "output_type": "stream",
     "text": [
      "['Ace', 'Atlas', 'Bailey', 'Bear', 'Blaze', 'Boomer', 'Buddy', 'Coco', 'Cooper', 'Duke', 'Dozer', 'Echo', 'Gizmo', 'Harley', 'Mac', 'Max', 'Milo', 'Oscar', 'Rex', 'Rocky', 'Rocket', 'Wolfie']\n"
     ]
    },
    {
     "data": {
      "text/plain": [
       "'Gizmo'"
      ]
     },
     "execution_count": 18,
     "metadata": {},
     "output_type": "execute_result"
    }
   ],
   "source": [
    "import random\n",
    "\n",
    "f = open(r'C:\\Users\\pgveg\\documents\\bootcampP\\python-3-bootcamp\\Python Basics\\petnames.txt','r')\n",
    "f_content = f.read()\n",
    "\n",
    "# print(f_content)\n",
    "\n",
    "f_content_list = f_content.split('\\n')\n",
    "print(f_content_list)\n",
    "f.close()\n",
    "\n",
    "random_names = random.choice(f_content_list)\n",
    "random_names"
   ]
  },
  {
   "cell_type": "code",
   "execution_count": 29,
   "metadata": {},
   "outputs": [
    {
     "data": {
      "text/plain": [
       "'Because I could not stop for Death,\\nHe kindly stopped for me;\\nThe carriage held but just ourselves\\nAnd Immortality.'"
      ]
     },
     "execution_count": 29,
     "metadata": {},
     "output_type": "execute_result"
    }
   ],
   "source": [
    "def read_file(file_name):\n",
    "    \"\"\" Reads in a file.\n",
    "\n",
    "    [IMPLEMENT ME]\n",
    "        1. Open and read the given file into a variable using the File read()\n",
    "           function\n",
    "        2. Print the contents of the file\n",
    "        3. Return the contents of the file\n",
    "\n",
    "    Args:\n",
    "        file_name: the name of the file to be read\n",
    "\n",
    "    Returns:\n",
    "        string: contents of the given file.\n",
    "    \"\"\"\n",
    "    ### WRITE SOLUTION HERE\n",
    "    try:\n",
    "        with open(file_name,\"r\") as file:\n",
    "            data = file.read()\n",
    "            data_split = data.split(\"\\n\")\n",
    "        return data\n",
    "    except:\n",
    "        raise NotImplementedError()\n",
    "\n",
    "read_file('sampletext.txt')"
   ]
  },
  {
   "cell_type": "code",
   "execution_count": 31,
   "metadata": {},
   "outputs": [
    {
     "data": {
      "text/plain": [
       "['Because I could not stop for Death,',\n",
       " 'He kindly stopped for me;',\n",
       " 'The carriage held but just ourselves',\n",
       " 'And Immortality.']"
      ]
     },
     "execution_count": 31,
     "metadata": {},
     "output_type": "execute_result"
    }
   ],
   "source": [
    "def read_file_into_list(file_name):\n",
    "    \"\"\" Reads in a file and stores each line as an element in a list\n",
    "\n",
    "    [IMPLEMENT ME]\n",
    "        1. Open the given file\n",
    "        2. Read the file line by line and append each line to a list\n",
    "        3. Return the list\n",
    "\n",
    "    Args:\n",
    "        file_name: the name of the file to be read\n",
    "\n",
    "    Returns:\n",
    "        list: a list where each element is a line in the file.\n",
    "    \"\"\"\n",
    "    ### WRITE SOLUTION HERE\n",
    "    try:\n",
    "        with open(file_name,\"r\") as file:\n",
    "            data = file.read()\n",
    "            data_split = data.split(\"\\n\")\n",
    "        return data_split\n",
    "    except:\n",
    "        raise NotImplementedError()\n",
    "\n",
    "read_file_into_list('sampletext.txt')"
   ]
  },
  {
   "cell_type": "code",
   "execution_count": 47,
   "metadata": {},
   "outputs": [],
   "source": [
    "# #File-handling --#writelines\n",
    "# try:\n",
    "#     with open('sampe/ewfile.txt',mode='a') as file:\n",
    "#         file.writelines(['\\nThis is  a new file created!2','\\nThis is another line to be added.'])\n",
    "# except FileNotFoundError as e:\n",
    "#     print(\"ERROR\",e)\n",
    "\n",
    "#     #File-handling --#Creating files\n",
    "# with open('newfile.txt',mode='w') as file:\n",
    "#     file.write('This is  a new file created!')\n",
    "\n",
    "\n",
    "def write_first_line_to_file(file_contents, output_filename):\n",
    "    \"\"\" Writes the first line of a string to a file.\n",
    "\n",
    "    [IMPLEMENT ME]\n",
    "        1. Get the first line of file_contents\n",
    "        2. Use the File write() function to write the first line into a file\n",
    "           with the name from output_filename\n",
    "\n",
    "        We determine the first line to be everything in a string before the\n",
    "        first newline ('\\n') character.\n",
    "\n",
    "    Args:\n",
    "        file_contents: string to be split and written into output file\n",
    "        output_filename: the name of the file to be written to\n",
    "    \"\"\"\n",
    "    ### WRITE SOLUTION HERE\n",
    "    first_line = file_contents.split('\\n')[0]\n",
    "    try:\n",
    "        with open(output_filename, 'w') as file:\n",
    "            file.write(first_line)\n",
    "    except:\n",
    "        raise NotImplementedError()\n",
    "\n",
    "\n",
    "write_first_line_to_file('\\npanada','sampletext.txt')"
   ]
  },
  {
   "cell_type": "code",
   "execution_count": null,
   "metadata": {},
   "outputs": [],
   "source": []
  },
  {
   "cell_type": "code",
   "execution_count": null,
   "metadata": {},
   "outputs": [],
   "source": []
  }
 ],
 "metadata": {
  "kernelspec": {
   "display_name": "Python 3",
   "language": "python",
   "name": "python3"
  },
  "language_info": {
   "codemirror_mode": {
    "name": "ipython",
    "version": 3
   },
   "file_extension": ".py",
   "mimetype": "text/x-python",
   "name": "python",
   "nbconvert_exporter": "python",
   "pygments_lexer": "ipython3",
   "version": "3.12.3"
  }
 },
 "nbformat": 4,
 "nbformat_minor": 2
}
