{
 "cells": [
  {
   "cell_type": "code",
   "execution_count": 2,
   "metadata": {},
   "outputs": [
    {
     "name": "stdout",
     "output_type": "stream",
     "text": [
      "r\n",
      "r\n"
     ]
    }
   ],
   "source": [
    "# Algorithm for a Palindrome\n",
    "\n",
    "str = 'racecar'\n",
    "\n",
    "print(str[0])\n",
    "print(str[6])\n",
    "\n",
    "[0] = [6]\n",
    "[1] = [5]\n",
    "[2] = [4]"
   ]
  },
  {
   "cell_type": "code",
   "execution_count": 7,
   "metadata": {},
   "outputs": [
    {
     "data": {
      "text/plain": [
       "True"
      ]
     },
     "execution_count": 7,
     "metadata": {},
     "output_type": "execute_result"
    }
   ],
   "source": [
    "def isPalindrome(str):\n",
    "    startIndex = 0\n",
    "    endIndex = len(str) - 1\n",
    "\n",
    "    for x in str:\n",
    "        if str[startIndex] != str[endIndex]:\n",
    "            return False\n",
    "    return True\n",
    "\n",
    "isPalindrome('racecar')"
   ]
  },
  {
   "cell_type": "code",
   "execution_count": null,
   "metadata": {},
   "outputs": [],
   "source": [
    "def access_element(arr, index):\n",
    "    return arr[index]\n",
    "\n"
   ]
  },
  {
   "cell_type": "code",
   "execution_count": 8,
   "metadata": {},
   "outputs": [
    {
     "data": {
      "text/plain": [
       "[1, 2, 3, 4]"
      ]
     },
     "execution_count": 8,
     "metadata": {},
     "output_type": "execute_result"
    }
   ],
   "source": [
    "#Pure Function\n",
    "\n",
    "my_list = [1,2,3]\n",
    "\n",
    "def add_to_list(lst,item):\n",
    "    lst.append(item)\n",
    "    return lst\n",
    "\n",
    "\n",
    "add_to_list(my_list,4)"
   ]
  },
  {
   "cell_type": "code",
   "execution_count": 10,
   "metadata": {},
   "outputs": [
    {
     "name": "stdout",
     "output_type": "stream",
     "text": [
      "[1, 2, 3]\n"
     ]
    },
    {
     "data": {
      "text/plain": [
       "[1, 2, 3, 4]"
      ]
     },
     "execution_count": 10,
     "metadata": {},
     "output_type": "execute_result"
    }
   ],
   "source": [
    "my_list = [1,2,3]\n",
    "\n",
    "def add_to_list(lst,item):\n",
    "    nl = lst.copy()\n",
    "    nl.append(item)\n",
    "    return nl\n",
    "\n",
    "\n",
    "print(my_list)\n",
    "add_to_list(my_list,4)"
   ]
  },
  {
   "cell_type": "code",
   "execution_count": 11,
   "metadata": {},
   "outputs": [
    {
     "data": {
      "text/plain": [
       "'lasrever'"
      ]
     },
     "execution_count": 11,
     "metadata": {},
     "output_type": "execute_result"
    }
   ],
   "source": [
    "#Reversed string\n",
    "\n",
    "trial = \"reversal\"\n",
    "\n",
    "new_trial = trial[::-1]\n",
    "\n",
    "new_trial"
   ]
  },
  {
   "cell_type": "code",
   "execution_count": 12,
   "metadata": {},
   "outputs": [
    {
     "data": {
      "text/plain": [
       "'lasrever'"
      ]
     },
     "execution_count": 12,
     "metadata": {},
     "output_type": "execute_result"
    }
   ],
   "source": [
    "def string_reverse(str):\n",
    "    if len(str) == 0:\n",
    "        return str\n",
    "    else:\n",
    "        return string_reverse(str[1:]) + str[0]\n",
    "\n",
    "string_reverse('reversal')"
   ]
  },
  {
   "cell_type": "code",
   "execution_count": 15,
   "metadata": {},
   "outputs": [
    {
     "name": "stdout",
     "output_type": "stream",
     "text": [
      "None\n",
      "None\n",
      "None\n",
      "cappuccino\n",
      "cortado\n",
      "None\n"
     ]
    }
   ],
   "source": [
    "#Mapping\n",
    "\n",
    "menu = ['espresso','mocha','latte','cappuccino','cortado','americano']\n",
    "\n",
    "def find_coffee(coffee):\n",
    "    if coffee[0] == 'c':\n",
    "        return coffee\n",
    "\n",
    "map_coffee = map(find_coffee,menu)\n",
    "map_coffee\n",
    "\n",
    "for x in map_coffee:\n",
    "    print(x)"
   ]
  },
  {
   "cell_type": "code",
   "execution_count": 17,
   "metadata": {},
   "outputs": [
    {
     "name": "stdout",
     "output_type": "stream",
     "text": [
      "Updating the list:  [5, 6, 8, 10, 14, 16, 20, 22, 26, 32, 34]\n"
     ]
    },
    {
     "data": {
      "text/plain": [
       "[5, 6, 8, 10, 14, 16, 20, 22, 26, 32, 34]"
      ]
     },
     "execution_count": 17,
     "metadata": {},
     "output_type": "execute_result"
    }
   ],
   "source": [
    "data = [2,3,5,7,11,13,17,19,23,29,31]\n",
    "\n",
    "# Ex1: List comprehension: updating the same list\n",
    "data = [x+3 for x in data]\n",
    "print(\"Updating the list: \", data)"
   ]
  },
  {
   "cell_type": "code",
   "execution_count": 18,
   "metadata": {},
   "outputs": [
    {
     "name": "stdout",
     "output_type": "stream",
     "text": [
      "Creating new list:  [10, 12, 16, 20, 28, 32, 40, 44, 52, 64, 68]\n"
     ]
    }
   ],
   "source": [
    "# Ex2: List comprehension: creating a different list with updated values\n",
    "new_data = [x*2 for x in data]\n",
    "print(\"Creating new list: \", new_data)"
   ]
  },
  {
   "cell_type": "code",
   "execution_count": 19,
   "metadata": {},
   "outputs": [
    {
     "name": "stdout",
     "output_type": "stream",
     "text": [
      "Divisible by four [12, 16, 20, 28, 32, 40, 44, 52, 64, 68]\n"
     ]
    }
   ],
   "source": [
    "# Ex3: With an if-condition: Multiples of four:\n",
    "fourx = [x for x in new_data if x%4 == 0 ]\n",
    "print(\"Divisible by four\", fourx)"
   ]
  },
  {
   "cell_type": "code",
   "execution_count": 20,
   "metadata": {},
   "outputs": [
    {
     "name": "stdout",
     "output_type": "stream",
     "text": [
      "Divisible by four minus one:  [11, 15, 19, 27, 31, 39, 43, 51, 63, 67]\n"
     ]
    }
   ],
   "source": [
    "# Ex4: Alternatively, we can update the list with the if condition as well\n",
    "fourxsub = [x-1 for x in new_data if x%4 == 0 ]\n",
    "print(\"Divisible by four minus one: \", fourxsub)\n"
   ]
  },
  {
   "cell_type": "code",
   "execution_count": 21,
   "metadata": {},
   "outputs": [
    {
     "name": "stdout",
     "output_type": "stream",
     "text": [
      "Nines:  [0, 9, 18, 27, 36, 45, 54, 63, 72, 81, 90, 99]\n"
     ]
    }
   ],
   "source": [
    "# Ex5: Using range function:\n",
    "nines = [x for x in range(100) if x%9 == 0]\n",
    "print(\"Nines: \", nines)"
   ]
  },
  {
   "cell_type": "code",
   "execution_count": 22,
   "metadata": {},
   "outputs": [],
   "source": [
    "# List comprehension:\n",
    "data = [x+3 for x in data]\n",
    "\n",
    "# Regular for loop:\n",
    "for x in range(len(data)):\n",
    "    data[x] = data[x] + 3"
   ]
  },
  {
   "cell_type": "code",
   "execution_count": 23,
   "metadata": {},
   "outputs": [
    {
     "name": "stdout",
     "output_type": "stream",
     "text": [
      "Using range():  {0: 0, 1: 2, 2: 4, 3: 6, 4: 8, 5: 10, 6: 12, 7: 14, 8: 16, 9: 18, 10: 20, 11: 22}\n"
     ]
    }
   ],
   "source": [
    "# Using range() function and no input list\n",
    "usingrange = {x:x*2 for x in range(12)}\n",
    "print(\"Using range(): \",usingrange)\n"
   ]
  },
  {
   "cell_type": "code",
   "execution_count": 24,
   "metadata": {},
   "outputs": [],
   "source": [
    "# Lists\n",
    "months = [\"Jan\", \"Feb\", \"Mar\", \"Apr\", \"May\", \"June\", \"July\", \"Aug\", \"Sept\", \"Oct\", \"Nov\", \"Dec\"]\n",
    "number = [1,2,3,4,5,6,7,8,9,10,11,12]"
   ]
  },
  {
   "cell_type": "code",
   "execution_count": 25,
   "metadata": {},
   "outputs": [
    {
     "name": "stdout",
     "output_type": "stream",
     "text": [
      "Using one input list to create dict:  {1: 1, 2: 4, 3: 9, 4: 16, 5: 25, 6: 36, 7: 49, 8: 64, 9: 81, 10: 100, 11: 121, 12: 144}\n"
     ]
    }
   ],
   "source": [
    "\n",
    "# Using one input list\n",
    "numdict = {x:x**2 for x in number}\n",
    "print(\"Using one input list to create dict: \", numdict)\n"
   ]
  },
  {
   "cell_type": "code",
   "execution_count": 26,
   "metadata": {},
   "outputs": [
    {
     "name": "stdout",
     "output_type": "stream",
     "text": [
      "Using two lists:  {1: 'Jan', 2: 'Feb', 3: 'Mar', 4: 'Apr', 5: 'May', 6: 'June', 7: 'July', 8: 'Aug', 9: 'Sept', 10: 'Oct', 11: 'Nov', 12: 'Dec'}\n"
     ]
    }
   ],
   "source": [
    "# Using two input lists\n",
    "months_dict = {key:value for (key, value) in zip(number, months)}\n",
    "print(\"Using two lists: \", months_dict)"
   ]
  },
  {
   "cell_type": "code",
   "execution_count": 27,
   "metadata": {},
   "outputs": [
    {
     "name": "stdout",
     "output_type": "stream",
     "text": [
      "{10, 11, 13, 15, 17, 18, 19}\n"
     ]
    }
   ],
   "source": [
    "set_a = {x for x in range(10,20) if x not in [12,14,16]}\n",
    "print(set_a)"
   ]
  },
  {
   "cell_type": "code",
   "execution_count": 28,
   "metadata": {},
   "outputs": [
    {
     "name": "stdout",
     "output_type": "stream",
     "text": [
      "<generator object <genexpr> at 0x0000020E098C5240>\n",
      "<class 'generator'>\n",
      "2 3 5 7 11 13 17 19 23 29 31 "
     ]
    }
   ],
   "source": [
    "data = [2,3,5,7,11,13,17,19,23,29,31]\n",
    "gen_obj = (x for x in data)\n",
    "print(gen_obj)\n",
    "print(type(gen_obj))\n",
    "for items in gen_obj:\n",
    "    print(items, end = \" \")"
   ]
  },
  {
   "cell_type": "code",
   "execution_count": null,
   "metadata": {},
   "outputs": [],
   "source": [
    "#List comprehension\n",
    "nums = [54,22,15,48,332,1265,1,664,223,156]\n",
    "evens = []\n",
    "\n"
   ]
  },
  {
   "cell_type": "code",
   "execution_count": 38,
   "metadata": {},
   "outputs": [],
   "source": [
    "# #Mapping\n",
    "\n",
    "# menu = ['espresso','mocha','latte','cappuccino','cortado','americano']\n",
    "\n",
    "# def find_coffee(coffee):\n",
    "#     if coffee[0] == 'c':\n",
    "#         return coffee\n",
    "\n",
    "# map_coffee = map(find_coffee,menu)\n",
    "# map_coffee\n",
    "\n",
    "# for x in map_coffee:\n",
    "#     print(x)\n",
    "\n",
    "# Input data: List of dictionaries\n",
    "employee_list = [\n",
    "   {\"id\": 12345, \"name\": \"John\", \"department\": \"Kitchen\"},\n",
    "   {\"id\": 12456, \"name\": \"Paul\", \"department\": \"House Floor\"},\n",
    "   {\"id\": 12478, \"name\": \"Sarah\", \"department\": \"Management\"},\n",
    "   {\"id\": 12434, \"name\": \"Lisa\", \"department\": \"Cold Storage\"},\n",
    "   {\"id\": 12483, \"name\": \"Ryan\", \"department\": \"Inventory Mgmt\"},\n",
    "   {\"id\": 12419, \"name\": \"Gill\", \"department\": \"Cashier\"}\n",
    "]\n",
    "\n",
    "# Function to be passed to the map() function. Do not change this.\n",
    "def mod(employee_list):\n",
    "   temp = employee_list['name'] + \"_\" + employee_list[\"department\"]\n",
    "   return temp\n",
    "\n",
    "def to_mod_list(employee_list):\n",
    "   \"\"\" Modifies the employee list of dictionaries into list of employee-department strings\n",
    "\n",
    "   [IMPLEMENT ME]\n",
    "      1. Use the map() method to apply mod() to all elements in employee_list\n",
    "\n",
    "   Args:\n",
    "      employee_list: list of employee objects\n",
    "\n",
    "   Returns:\n",
    "      list - A list of strings consisting of name + department.\n",
    "   \"\"\"\n",
    "   ### WRITE SOLUTION CODE HERE\n",
    "   try:\n",
    "      new_map = map(employee_list,mod)\n",
    "      return list(new_map)\n",
    "   except:\n",
    "      raise NotImplementedError()\n"
   ]
  },
  {
   "cell_type": "code",
   "execution_count": null,
   "metadata": {},
   "outputs": [],
   "source": []
  }
 ],
 "metadata": {
  "kernelspec": {
   "display_name": "Python 3",
   "language": "python",
   "name": "python3"
  },
  "language_info": {
   "codemirror_mode": {
    "name": "ipython",
    "version": 3
   },
   "file_extension": ".py",
   "mimetype": "text/x-python",
   "name": "python",
   "nbconvert_exporter": "python",
   "pygments_lexer": "ipython3",
   "version": "3.12.3"
  }
 },
 "nbformat": 4,
 "nbformat_minor": 2
}
